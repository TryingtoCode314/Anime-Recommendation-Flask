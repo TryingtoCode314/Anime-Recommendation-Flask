{
 "cells": [
  {
   "cell_type": "code",
   "execution_count": 1,
   "metadata": {},
   "outputs": [],
   "source": [
    "import pandas as pd \n",
    "import numpy as np\n",
    "import os \n",
    "import matplotlib.pyplot as plt\n",
    "import seaborn as sns\n",
    "from surprise import Dataset, Reader\n",
    "import time\n",
    "from surprise.prediction_algorithms import SVD\n",
    "from Functions import SVD_Predict\n",
    "\n",
    "\n",
    "path = os.path.join(os.getcwd(), 'anime_data')\n",
    "anime_rec = pd.read_csv(os.path.join(path, 'anime_rec.csv'))\n",
    "rating = pd.read_csv(os.path.join(path, 'rating.csv'))\n",
    "anime_rec_2 = anime_rec[['anime_id','name']]\n",
    "rating_withnames = pd.merge(rating, anime_rec_2, on = 'anime_id')\n",
    "all_data = rating_withnames[rating_withnames['rating'] != -1]\n",
    "#shuffle dataset adjust frac=0.1 for 10% of dataset,0.5 for 50%, 1 for 100% etc.\n",
    "final_data = all_data.sample(frac=1).reset_index(drop=True) \n",
    "final_data = final_data.drop('name', axis=1)\n",
    "\n",
    "reader = Reader(rating_scale=(1, 10))\n",
    "from surprise.model_selection import train_test_split\n",
    "data = Dataset.load_from_df(final_data, reader)\n",
    "#train, test = train_test_split(data)\n",
    "train = data.build_full_trainset()\n",
    "\n",
    "\n",
    "#Where the actual code starts\n",
    "\n",
    "\n"
   ]
  },
  {
   "cell_type": "code",
   "execution_count": 15,
   "metadata": {},
   "outputs": [
    {
     "data": {
      "text/plain": [
       "<surprise.prediction_algorithms.matrix_factorization.SVD at 0x21e45253f70>"
      ]
     },
     "execution_count": 15,
     "metadata": {},
     "output_type": "execute_result"
    }
   ],
   "source": [
    "from surprise.dump import dump, load\n",
    "algo = SVD()\n",
    "algo.fit(train)\n"
   ]
  },
  {
   "cell_type": "code",
   "execution_count": 16,
   "metadata": {},
   "outputs": [],
   "source": [
    "dump(os.path.join(os.getcwd(), '100%_data.txt'), algo=algo)"
   ]
  },
  {
   "cell_type": "code",
   "execution_count": 17,
   "metadata": {},
   "outputs": [],
   "source": [
    "d = load(os.path.join(os.getcwd(), '100%_data.txt'))\n",
    "algo = d[-1]\n",
    "predictions = SVD_Predict(algo, [(1, 3), (20, 1)])\n",
    "df = pd.DataFrame(predictions, columns=['anime_id', 'rating'])\n",
    "new_data = pd.merge(df.nlargest(3, 'rating'), anime_rec_2, left_on=['anime_id'], right_on=['anime_id'])\n",
    "new_data = new_data[['name', 'anime_id', 'rating']]\n"
   ]
  },
  {
   "cell_type": "code",
   "execution_count": 20,
   "metadata": {},
   "outputs": [
    {
     "data": {
      "text/html": [
       "<div>\n",
       "<style scoped>\n",
       "    .dataframe tbody tr th:only-of-type {\n",
       "        vertical-align: middle;\n",
       "    }\n",
       "\n",
       "    .dataframe tbody tr th {\n",
       "        vertical-align: top;\n",
       "    }\n",
       "\n",
       "    .dataframe thead th {\n",
       "        text-align: right;\n",
       "    }\n",
       "</style>\n",
       "<table border=\"1\" class=\"dataframe\">\n",
       "  <thead>\n",
       "    <tr style=\"text-align: right;\">\n",
       "      <th></th>\n",
       "      <th>name</th>\n",
       "      <th>anime_id</th>\n",
       "      <th>rating</th>\n",
       "    </tr>\n",
       "  </thead>\n",
       "  <tbody>\n",
       "    <tr>\n",
       "      <th>0</th>\n",
       "      <td>Persona 3 the Movie 1: Spring of Birth</td>\n",
       "      <td>14407</td>\n",
       "      <td>9.320490</td>\n",
       "    </tr>\n",
       "    <tr>\n",
       "      <th>1</th>\n",
       "      <td>Code Geass: Hangyaku no Lelouch</td>\n",
       "      <td>1575</td>\n",
       "      <td>9.074894</td>\n",
       "    </tr>\n",
       "    <tr>\n",
       "      <th>2</th>\n",
       "      <td>Code Geass: Hangyaku no Lelouch R2</td>\n",
       "      <td>2904</td>\n",
       "      <td>9.017928</td>\n",
       "    </tr>\n",
       "  </tbody>\n",
       "</table>\n",
       "</div>"
      ],
      "text/plain": [
       "                                     name  anime_id    rating\n",
       "0  Persona 3 the Movie 1: Spring of Birth     14407  9.320490\n",
       "1         Code Geass: Hangyaku no Lelouch      1575  9.074894\n",
       "2      Code Geass: Hangyaku no Lelouch R2      2904  9.017928"
      ]
     },
     "execution_count": 20,
     "metadata": {},
     "output_type": "execute_result"
    }
   ],
   "source": []
  }
 ],
 "metadata": {
  "kernelspec": {
   "display_name": "base",
   "language": "python",
   "name": "python3"
  },
  "language_info": {
   "codemirror_mode": {
    "name": "ipython",
    "version": 3
   },
   "file_extension": ".py",
   "mimetype": "text/x-python",
   "name": "python",
   "nbconvert_exporter": "python",
   "pygments_lexer": "ipython3",
   "version": "3.9.12"
  },
  "orig_nbformat": 4,
  "vscode": {
   "interpreter": {
    "hash": "3701ef0eb61feb531df577ac3fd6cca4177a4e418f50d944b6cc80e758a5cf51"
   }
  }
 },
 "nbformat": 4,
 "nbformat_minor": 2
}
